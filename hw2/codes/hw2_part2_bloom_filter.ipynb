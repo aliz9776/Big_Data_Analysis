{
  "nbformat": 4,
  "nbformat_minor": 0,
  "metadata": {
    "colab": {
      "provenance": []
    },
    "kernelspec": {
      "name": "python3",
      "display_name": "Python 3"
    },
    "language_info": {
      "name": "python"
    }
  },
  "cells": [
    {
      "cell_type": "markdown",
      "source": [
        "بخش ب)پیاده سازی  "
      ],
      "metadata": {
        "id": "cgTRy-DgS00F"
      }
    },
    {
      "cell_type": "code",
      "source": [
        "import csv\n",
        "\n",
        "def prod(lst):\n",
        "      result = 1\n",
        "      for num in lst:\n",
        "          result *= num\n",
        "      return result\n",
        "\n",
        "#Implemention of bloom filter\n",
        "class BloomFilter_b:\n",
        "    def __init__(self, size):\n",
        "        self.size = size\n",
        "        self.bit_array = [False] * size\n",
        "        self.hash_values = [17, 31, 47, 61]  # Hash function parameters\n",
        "        \n",
        "    \n",
        "\n",
        "    def _hash(self, value):\n",
        "        l = len(value)\n",
        "        c = [ord(ch) for ch in value]\n",
        "\n",
        "        # Compute the hash value using Type I hash function\n",
        "        h = (min(c) + (prod(c) * self.hash_values[0]) + (sum(c) * self.hash_values[1]) +\n",
        "             (max(c) * self.hash_values[2]) + (self.hash_values[3] * pow(l, 2))) % self.size\n",
        "\n",
        "        return h\n",
        "\n",
        "    def add(self, value):\n",
        "        h = self._hash(value)\n",
        "        self.bit_array[h] = True\n",
        "\n",
        "    def contains(self, value):\n",
        "        h = self._hash(value)\n",
        "        return self.bit_array[h]\n",
        "\n",
        "    def check_membership(self, item):\n",
        "        hashes = self.hash(item)\n",
        "        for hash_val in hashes:\n",
        "            if self.bit_array[hash_val] == 0:\n",
        "                return False\n",
        "        return True\n",
        "# Create a Bloom filter instance\n",
        "bloom_filter = BloomFilter_b(1000000)  # Adjust the size based on the expected number of usernames\n",
        "\n",
        "# Load usernames from the CSV file\n",
        "with open('user_dataset.csv', 'r') as file:\n",
        "    reader = csv.reader(file)\n",
        "    for row in reader:\n",
        "        username = row[0]  # Assuming the username is in the first column\n",
        "        bloom_filter.add(username)\n",
        "\n"
      ],
      "metadata": {
        "id": "kBIcGaFHS1Z0"
      },
      "execution_count": 110,
      "outputs": []
    },
    {
      "cell_type": "markdown",
      "source": [
        "ادامه بحش ب"
      ],
      "metadata": {
        "id": "axpWBEhKOqxv"
      }
    },
    {
      "cell_type": "code",
      "source": [
        "import math\n",
        "\n",
        "def calculate_hash_table_size(n, desired_p, error_margin):\n",
        "    size_multiplier = 2  # Start with a multiplier of 2\n",
        "    while True:\n",
        "        size = n * size_multiplier\n",
        "        hash_functions = math.ceil((size / n) * math.log(2))\n",
        "        p = (1 - math.exp(-hash_functions * n / size)) ** hash_functions\n",
        "        if math.isclose(p, desired_p, rel_tol=error_margin):\n",
        "            return size\n",
        "        size_multiplier += 1\n",
        "\n",
        "# Example usage\n",
        "n = 1000000  # Number of elements in the dataset\n",
        "desired_p = 0.002  # Desired false positive probability\n",
        "error_margin = 0.09  # Error margin of ±9%\n",
        "\n",
        "hash_table_size = calculate_hash_table_size(n, desired_p, error_margin)\n",
        "print(\"Size of hash table:\", hash_table_size)\n"
      ],
      "metadata": {
        "colab": {
          "base_uri": "https://localhost:8080/"
        },
        "id": "Z1ubX9-DOwf3",
        "outputId": "981dda70-3f6e-4c8a-dc18-fcc5c276eae1"
      },
      "execution_count": 111,
      "outputs": [
        {
          "output_type": "stream",
          "name": "stdout",
          "text": [
            "Size of hash table: 13000000\n"
          ]
        }
      ]
    },
    {
      "cell_type": "markdown",
      "source": [
        "بخش ج"
      ],
      "metadata": {
        "id": "MnXMoL-oOoYh"
      }
    },
    {
      "cell_type": "code",
      "source": [
        "class BloomFilter_c:\n",
        "    def __init__(self, size):\n",
        "        self.size = size\n",
        "        self.bit_array = [False] * size\n",
        "        self.hash_values = [17, 31, 47, 61]  # Hash function parameters\n",
        "\n",
        "    def _hash(self, value):\n",
        "      l = len(value)\n",
        "      c = [ord(ch) for ch in value]\n",
        "\n",
        "      # Compute the hash value using Type II hash function\n",
        "      h = sum(c[i] * pow(self.hash_values[i % len(self.hash_values)], l-1-i) for i in range(l)) % self.size\n",
        "\n",
        "      return h\n",
        "\n",
        "        \n",
        "\n",
        "    def add(self, value):\n",
        "        h = self._hash(value)\n",
        "        self.bit_array[h] = True\n",
        "\n",
        "    def contains(self, value):\n",
        "        h = self._hash(value)\n",
        "        return self.bit_array[h]\n"
      ],
      "metadata": {
        "id": "Xomsg2kKbYrT"
      },
      "execution_count": 112,
      "outputs": []
    },
    {
      "cell_type": "markdown",
      "source": [
        "بخش د"
      ],
      "metadata": {
        "id": "CMm8juludqSH"
      }
    },
    {
      "cell_type": "code",
      "source": [
        "user_dataset = []\n",
        "with open('user_dataset.csv', 'r') as file:\n",
        "    reader = csv.reader(file)\n",
        "    next(reader)  # Skip header row\n",
        "    for row in reader:\n",
        "        username = row[0]\n",
        "        user_dataset.append(username)\n",
        "user_requests = []\n",
        "with open('user_requests.csv', 'r') as file:\n",
        "    reader = csv.reader(file)\n",
        "    next(reader)  # Skip header row\n",
        "    for row in reader:\n",
        "        username = row[0]\n",
        "        availability = int(row[1])\n",
        "        user_requests.append((username, availability))\n",
        "\n",
        "false_positives = 0\n",
        "total_usernames = len(user_requests)\n",
        "\n",
        "for username, availability in user_requests:\n",
        "    if bloom_filter.contains(username) and availability == 0:\n",
        "        false_positives += 1\n",
        "false_positive_rate = false_positives / total_usernames\n",
        "\n",
        "print(\"False positive rate:\", false_positive_rate)"
      ],
      "metadata": {
        "colab": {
          "base_uri": "https://localhost:8080/"
        },
        "id": "yO1Bo58scnTM",
        "outputId": "ae9354dd-c547-4e5e-a223-2f1c0b1ac69d"
      },
      "execution_count": 113,
      "outputs": [
        {
          "output_type": "stream",
          "name": "stdout",
          "text": [
            "False positive rate: 0.62502\n"
          ]
        }
      ]
    },
    {
      "cell_type": "markdown",
      "source": [
        "بخش ه"
      ],
      "metadata": {
        "id": "xXAICP5Pha_t"
      }
    },
    {
      "cell_type": "code",
      "source": [
        "bloom_filter = BloomFilter_c(hash_table_size)\n",
        "\n",
        "for username in user_dataset:\n",
        "    bloom_filter.add(username)\n",
        "\n",
        "user_requests = []\n",
        "with open('user_requests.csv', 'r') as file:\n",
        "    reader = csv.reader(file)\n",
        "    next(reader)  # Skip header row\n",
        "    for row in reader:\n",
        "        username = row[0]\n",
        "        availability = int(row[1])\n",
        "        user_requests.append((username, availability))\n",
        "\n",
        "false_positives = 0\n",
        "total_usernames = len(user_requests)\n",
        "\n",
        "for username, availability in user_requests:\n",
        "    if bloom_filter.contains(username) and availability == 0:\n",
        "        false_positives += 1\n",
        "false_positive_rate = false_positives / total_usernames\n",
        "\n",
        "print(\"False positive rate:\", false_positive_rate)"
      ],
      "metadata": {
        "colab": {
          "base_uri": "https://localhost:8080/"
        },
        "id": "5VXd5YKBhbH2",
        "outputId": "24f82fbd-0c42-471b-bba6-5b3e10f85e2b"
      },
      "execution_count": 114,
      "outputs": [
        {
          "output_type": "stream",
          "name": "stdout",
          "text": [
            "False positive rate: 0.07138\n"
          ]
        }
      ]
    }
  ]
}