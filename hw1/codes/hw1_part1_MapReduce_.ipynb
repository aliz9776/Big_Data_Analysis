{
  "nbformat": 4,
  "nbformat_minor": 0,
  "metadata": {
    "colab": {
      "provenance": []
    },
    "kernelspec": {
      "name": "python3",
      "display_name": "Python 3"
    },
    "language_info": {
      "name": "python"
    }
  },
  "cells": [
    {
      "cell_type": "markdown",
      "source": [
        "HW1-PART1(MapReduce)-question 2"
      ],
      "metadata": {
        "id": "UcZ7qXrWYAJB"
      }
    },
    {
      "cell_type": "code",
      "source": [
        "pip install pyspark"
      ],
      "metadata": {
        "colab": {
          "base_uri": "https://localhost:8080/"
        },
        "id": "TgCpHsG2YvUq",
        "outputId": "45505aa3-cb37-4422-f400-9ff8e67478f5"
      },
      "execution_count": null,
      "outputs": [
        {
          "output_type": "stream",
          "name": "stdout",
          "text": [
            "Looking in indexes: https://pypi.org/simple, https://us-python.pkg.dev/colab-wheels/public/simple/\n",
            "Requirement already satisfied: pyspark in /usr/local/lib/python3.9/dist-packages (3.4.0)\n",
            "Requirement already satisfied: py4j==0.10.9.7 in /usr/local/lib/python3.9/dist-packages (from pyspark) (0.10.9.7)\n"
          ]
        }
      ]
    },
    {
      "cell_type": "markdown",
      "source": [
        "A) Using the MapReduce pattern, write a program that shows the five channel IDs with the most link exchange in the output.\n"
      ],
      "metadata": {
        "id": "XCTIhSCcU7p8"
      }
    },
    {
      "cell_type": "code",
      "execution_count": null,
      "metadata": {
        "id": "fJ0c7Zm2X_M1",
        "colab": {
          "base_uri": "https://localhost:8080/"
        },
        "outputId": "0387fe28-1eed-4dc5-c4fe-ac7ccd892c52"
      },
      "outputs": [
        {
          "output_type": "stream",
          "name": "stdout",
          "text": [
            "Top 5 Channels by Link Exchanges:\n",
            "Channel ID: 859 Link Exchange: 1933\n",
            "Channel ID: 5306 Link Exchange: 1741\n",
            "Channel ID: 2664 Link Exchange: 1528\n",
            "Channel ID: 5716 Link Exchange: 1426\n",
            "Channel ID: 6306 Link Exchange: 1394\n"
          ]
        }
      ],
      "source": [
        "# Import necessary libraries\n",
        "from pyspark.sql import SparkSession\n",
        "\n",
        "# Create SparkSession\n",
        "spark = SparkSession.builder.appName(\"LinkExchange\").getOrCreate()\n",
        "\n",
        "# Read input data from file \n",
        "input_file = \"data.txt\"\n",
        "channels = spark.sparkContext.textFile(input_file)\n",
        "\n",
        "# Define map function\n",
        "def map_channels(line):\n",
        "    fields = line.split()\n",
        "    channel = fields[0]\n",
        "    links = fields[1:]\n",
        "    return (channel, len(links))\n",
        "\n",
        "# Define reduce function\n",
        "def reduce_channels(links1, links2):\n",
        "    return links1 + links2\n",
        "\n",
        "# Apply MapReduce process\n",
        "mapped_channels = channels.map(map_channels)\n",
        "reduced_channels = mapped_channels.reduceByKey(reduce_channels)\n",
        "sorted_channels = reduced_channels.sortBy(lambda x: x[1], ascending=False)\n",
        "\n",
        "# Show top 5 channel IDs with most link exchange\n",
        "top_channels = sorted_channels.take(5)\n",
        "print(\"Top 5 Channels by Link Exchanges:\")\n",
        "for channel in top_channels:\n",
        "    print(\"Channel ID:\", channel[0], \"Link Exchange:\", channel[1])\n",
        "\n",
        "# Stop SparkSession\n",
        "spark.stop()\n"
      ]
    },
    {
      "cell_type": "markdown",
      "source": [
        "B) Find the number of channel ID link exchanges with numbers 1748, 5633 and 3469\n",
        "\n"
      ],
      "metadata": {
        "id": "70w64ySuU3ua"
      }
    },
    {
      "cell_type": "code",
      "source": [
        "import os\n",
        "# Set PYTHONHASHSEED environment variable\n",
        "os.environ['PYTHONHASHSEED'] = '0'\n",
        "\n",
        "# Create SparkSession\n",
        "spark = SparkSession.builder.appName(\"LinkExchange\").getOrCreate()\n",
        "\n",
        "# Read input data from file \n",
        "input_file = \"data.txt\"\n",
        "channels = spark.sparkContext.textFile(input_file)\n",
        "\n",
        "# Create SparkSession\n",
        "spark = SparkSession.builder.appName(\"LinkExchange\").getOrCreate()\n",
        "\n",
        "# Define map function\n",
        "def map_channels(line):\n",
        "    fields = line.split()\n",
        "    channel = int(fields[0])\n",
        "    links = [int(link) for link in fields[1:]]\n",
        "    for link in links:\n",
        "        yield (link, 1)\n",
        "    yield (channel, 0)\n",
        "\n",
        "# Define reduce function\n",
        "def reduce_channels(links1, links2):\n",
        "    return links1 + links2\n",
        "\n",
        "# Apply MapReduce process\n",
        "mapped_channels = channels.flatMap(map_channels)\n",
        "reduced_channels = mapped_channels.reduceByKey(reduce_channels)\n",
        "\n",
        "# Find number of link exchanges for specific channels\n",
        "channel_ids = [1748, 5633, 3469]\n",
        "for channel_id in channel_ids:\n",
        "    num_links = reduced_channels.lookup(channel_id)\n",
        "    if len(num_links) > 0:\n",
        "        print(\"Channel ID:\", channel_id, \"Number of Link Exchanges:\", num_links[0])\n",
        "    else:\n",
        "        print(\"Channel ID:\", channel_id, \"has no link exchanges.\")\n",
        "\n",
        "# Stop SparkSession\n",
        "spark.stop()\n"
      ],
      "metadata": {
        "id": "HP3nfk_jeuuR",
        "colab": {
          "base_uri": "https://localhost:8080/"
        },
        "outputId": "b94b69c4-f285-4cea-f53b-85195d26d2cb"
      },
      "execution_count": null,
      "outputs": [
        {
          "output_type": "stream",
          "name": "stdout",
          "text": [
            "Channel ID: 1748 Number of Link Exchanges: 130\n",
            "Channel ID: 5633 Number of Link Exchanges: 30\n",
            "Channel ID: 3469 Number of Link Exchanges: 119\n"
          ]
        }
      ]
    }
  ]
}